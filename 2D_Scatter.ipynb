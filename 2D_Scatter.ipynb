{
  "nbformat": 4,
  "nbformat_minor": 0,
  "metadata": {
    "colab": {
      "name": "2D Scatter.ipynb",
      "version": "0.3.2",
      "provenance": [],
      "include_colab_link": true
    },
    "kernelspec": {
      "name": "python3",
      "display_name": "Python 3"
    }
  },
  "cells": [
    {
      "cell_type": "markdown",
      "metadata": {
        "id": "view-in-github",
        "colab_type": "text"
      },
      "source": [
        "<a href=\"https://colab.research.google.com/github/hrcarve/EOSMLProject/blob/master/2D_Scatter.ipynb\" target=\"_parent\"><img src=\"https://colab.research.google.com/assets/colab-badge.svg\" alt=\"Open In Colab\"/></a>"
      ]
    },
    {
      "cell_type": "code",
      "metadata": {
        "id": "tMgFgy83LflI",
        "colab_type": "code",
        "colab": {}
      },
      "source": [
        "url = 'https://raw.githubusercontent.com/hrcarve/EOSMLProject/master/helmholtz/EnergyData5.csv'\n",
        "\n",
        "data = pd.read_csv(url, header=None)"
      ],
      "execution_count": 0,
      "outputs": []
    },
    {
      "cell_type": "code",
      "metadata": {
        "id": "FjJyrOPvKee0",
        "colab_type": "code",
        "colab": {}
      },
      "source": [
        "import numpy as np\n",
        "from mpl_toolkits import mplot3d\n",
        "%matplotlib inline\n",
        "from mpl_toolkits.mplot3d import Axes3D\n",
        "import matplotlib.pyplot as plt\n",
        "import pandas as pd"
      ],
      "execution_count": 0,
      "outputs": []
    },
    {
      "cell_type": "code",
      "metadata": {
        "id": "wQ7TK5dfVWl3",
        "colab_type": "code",
        "outputId": "6deadb03-7d7b-4203-89ea-7acf534b2c85",
        "colab": {
          "base_uri": "https://localhost:8080/",
          "height": 386
        }
      },
      "source": [
        "ye_const = data.loc[data['2'] ==  0.44799999999999995]\n",
        "dens_const = ye_const.loc[ye_const['0'] == 1.000000e-03]\n",
        "print(dens_const)\n",
        "x = np.log(dens_const['1'])\n",
        "y = np.log(dens_const['3'])\n",
        "\n",
        "fig2 = plt.scatter(x,y)\n"
      ],
      "execution_count": 0,
      "outputs": [
        {
          "output_type": "stream",
          "text": [
            "        0             1      2             3\n",
            "2   0.001  1.000000e+03  0.448  7.477459e+10\n",
            "7   0.001  3.162278e+05  0.448  1.348525e+13\n",
            "12  0.001  1.000000e+08  0.448  7.565826e+20\n",
            "17  0.001  3.162278e+10  0.448  2.077181e+31\n",
            "22  0.001  1.000000e+13  0.448  2.080572e+41\n"
          ],
          "name": "stdout"
        },
        {
          "output_type": "execute_result",
          "data": {
            "text/plain": [
              "<matplotlib.collections.PathCollection at 0x7fa285c785f8>"
            ]
          },
          "metadata": {
            "tags": []
          },
          "execution_count": 121
        },
        {
          "output_type": "display_data",
          "data": {
            "image/png": "[encoded data removed]",
            "text/plain": [
              "<Figure size 432x288 with 1 Axes>"
            ]
          },
          "metadata": {
            "tags": []
          }
        }
      ]
    },
    {
      "cell_type": "code",
      "metadata": {
        "id": "DUTnwhXJBT6g",
        "colab_type": "code",
        "outputId": "06943049-abe2-49bc-b310-2d4cbd0751cd",
        "colab": {
          "base_uri": "https://localhost:8080/",
          "height": 370
        }
      },
      "source": [
        "ye1_const = data.loc[data['2'] ==  0.44799999999999995]\n",
        "temp_const = ye1_const.loc[ye1_const['1'] == 1.000000e+03]\n",
        "print(temp_const)\n",
        "x = np.log(temp_const['0'])\n",
        "y = np.log(temp_const['3'])\n",
        "\n",
        "fig1 = plt.scatter(x, y)"
      ],
      "execution_count": 0,
      "outputs": [
        {
          "output_type": "stream",
          "text": [
            "                0       1      2             3\n",
            "2    1.000000e-03  1000.0  0.448  7.477459e+10\n",
            "27   3.162278e+01  1000.0  0.448  3.948418e+13\n",
            "52   1.000000e+06  1000.0  0.448  3.066914e+16\n",
            "77   3.162278e+10  1000.0  0.448  3.660050e+18\n",
            "102  1.000000e+15  1000.0  0.448  1.222912e+20\n"
          ],
          "name": "stdout"
        },
        {
          "output_type": "display_data",
          "data": {
            "image/png": "[encoded data removed]",
            "text/plain": [
              "<Figure size 432x288 with 1 Axes>"
            ]
          },
          "metadata": {
            "tags": []
          }
        }
      ]
    }
  ]
}