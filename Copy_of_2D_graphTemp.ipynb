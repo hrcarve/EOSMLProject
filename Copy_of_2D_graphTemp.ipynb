{
  "nbformat": 4,
  "nbformat_minor": 0,
  "metadata": {
    "colab": {
      "name": "Copy of 2D-graphTemp.ipynb",
      "version": "0.3.2",
      "provenance": [],
      "collapsed_sections": [],
      "include_colab_link": true
    },
    "kernelspec": {
      "name": "python3",
      "display_name": "Python 3"
    }
  },
  "cells": [
    {
      "cell_type": "markdown",
      "metadata": {
        "id": "view-in-github",
        "colab_type": "text"
      },
      "source": [
        "<a href=\"https://colab.research.google.com/github/hrcarve/EOSMLProject/blob/master/Copy_of_2D_graphTemp.ipynb\" target=\"_parent\"><img src=\"https://colab.research.google.com/assets/colab-badge.svg\" alt=\"Open In Colab\"/></a>"
      ]
    },
    {
      "cell_type": "code",
      "metadata": {
        "id": "FjJyrOPvKee0",
        "colab_type": "code",
        "colab": {}
      },
      "source": [
        "import numpy as np\n",
        "from mpl_toolkits import mplot3d\n",
        "%matplotlib inline\n",
        "from mpl_toolkits.mplot3d import Axes3D\n",
        "import matplotlib.pyplot as plt\n",
        "import pandas as pd\n",
        "from scipy.interpolate import interp1d"
      ],
      "execution_count": 0,
      "outputs": []
    },
    {
      "cell_type": "code",
      "metadata": {
        "id": "tMgFgy83LflI",
        "colab_type": "code",
        "colab": {}
      },
      "source": [
        "url = 'https://raw.githubusercontent.com/hrcarve/EOSMLProject/master/helmholtz/Temp_resolution10-11_100.csv'\n",
        "\n",
        "data = pd.read_csv(url, header = 0)"
      ],
      "execution_count": 0,
      "outputs": []
    },
    {
      "cell_type": "markdown",
      "metadata": {
        "id": "Y3RUR-rHLMp3",
        "colab_type": "text"
      },
      "source": [
        ""
      ]
    },
    {
      "cell_type": "code",
      "metadata": {
        "id": "jV2ERAdDO8Ac",
        "colab_type": "code",
        "outputId": "3741b7c1-1a1b-4a74-d284-fab2581368a7",
        "colab": {
          "base_uri": "https://localhost:8080/",
          "height": 1375
        }
      },
      "source": [
        "print(data)\n",
        "E = data['E'].astype('float64')\n",
        "x = np.log(data['y']) \n",
        "y = np.log(E)\n",
        "\n",
        "plt.plot(x, y)\n",
        "plt.ylabel('Energy')\n",
        "plt.xlabel('Temperature')"
      ],
      "execution_count": 4,
      "outputs": [
        {
          "output_type": "stream",
          "text": [
            "               x             y         z                     E\n",
            "0   5.000000e+13  1.000000e+10  0.509091  53346183997948329984\n",
            "1   5.000000e+13  1.023531e+10  0.509091  53347937117938507776\n",
            "2   5.000000e+13  1.047616e+10  0.509091  53349739728733372416\n",
            "3   5.000000e+13  1.072267e+10  0.509091  53351593550644920320\n",
            "4   5.000000e+13  1.097499e+10  0.509091  53353500373776998400\n",
            "5   5.000000e+13  1.123324e+10  0.509091  53355462061123739648\n",
            "6   5.000000e+13  1.149757e+10  0.509091  53357480551786283008\n",
            "7   5.000000e+13  1.176812e+10  0.509091  53359557864369995776\n",
            "8   5.000000e+13  1.204504e+10  0.509091  53361696100504403968\n",
            "9   5.000000e+13  1.232847e+10  0.509091  53363897448554078208\n",
            "10  5.000000e+13  1.261857e+10  0.509091  53366164187482365952\n",
            "11  5.000000e+13  1.291550e+10  0.509091  53368498690910158848\n",
            "12  5.000000e+13  1.321941e+10  0.509091  53370903431345938432\n",
            "13  5.000000e+13  1.353048e+10  0.509091  53373380984625872896\n",
            "14  5.000000e+13  1.384886e+10  0.509091  53375934034553495552\n",
            "15  5.000000e+13  1.417474e+10  0.509091  53378565377756782592\n",
            "16  5.000000e+13  1.450829e+10  0.509091  53381277928767455232\n",
            "17  5.000000e+13  1.484968e+10  0.509091  53384074725345771520\n",
            "18  5.000000e+13  1.519911e+10  0.509091  53386958934040862720\n",
            "19  5.000000e+13  1.555676e+10  0.509091  53389933856025370624\n",
            "20  5.000000e+13  1.592283e+10  0.509091  53393002933183823872\n",
            "21  5.000000e+13  1.629751e+10  0.509091  53396169754499448832\n",
            "22  5.000000e+13  1.668101e+10  0.509091  53399438062738800640\n",
            "23  5.000000e+13  1.707353e+10  0.509091  53402811761438580736\n",
            "24  5.000000e+13  1.747528e+10  0.509091  53406294922226950144\n",
            "25  5.000000e+13  1.788650e+10  0.509091  53409891792485384192\n",
            "26  5.000000e+13  1.830738e+10  0.509091  53413606803376390144\n",
            "27  5.000000e+13  1.873817e+10  0.509091  53417444578230861824\n",
            "28  5.000000e+13  1.917910e+10  0.509091  53421409941344092160\n",
            "29  5.000000e+13  1.963041e+10  0.509091  53425507927178215424\n",
            "..           ...           ...       ...                   ...\n",
            "70  5.000000e+13  5.094138e+10  0.509091  53815090851828514816\n",
            "71  5.000000e+13  5.214008e+10  0.509091  53834313906955902976\n",
            "72  5.000000e+13  5.336699e+10  0.509091  53854326915395035136\n",
            "73  5.000000e+13  5.462277e+10  0.509091  53875165181927243776\n",
            "74  5.000000e+13  5.590810e+10  0.509091  53896865657378234368\n",
            "75  5.000000e+13  5.722368e+10  0.509091  53919467017373048832\n",
            "76  5.000000e+13  5.857021e+10  0.509091  53943009744959537152\n",
            "77  5.000000e+13  5.994843e+10  0.509091  53967536217304645632\n",
            "78  5.000000e+13  6.135907e+10  0.509091  53993090796670296064\n",
            "79  5.000000e+13  6.280291e+10  0.509091  54019719925893586944\n",
            "80  5.000000e+13  6.428073e+10  0.509091  54047472228593934336\n",
            "81  5.000000e+13  6.579332e+10  0.509091  54076398614393692160\n",
            "82  5.000000e+13  6.734151e+10  0.509091  54106552389375008768\n",
            "83  5.000000e+13  6.892612e+10  0.509091  54137989372085510144\n",
            "84  5.000000e+13  7.054802e+10  0.509091  54170768015340019712\n",
            "85  5.000000e+13  7.220809e+10  0.509091  54204949534186766336\n",
            "86  5.000000e+13  7.390722e+10  0.509091  54240598040340029440\n",
            "87  5.000000e+13  7.564633e+10  0.509091  54277780683458822144\n",
            "88  5.000000e+13  7.742637e+10  0.509091  54316567799638687744\n",
            "89  5.000000e+13  7.924829e+10  0.509091  54357033067465580544\n",
            "90  5.000000e+13  8.111308e+10  0.509091  54399253672107139072\n",
            "91  5.000000e+13  8.302176e+10  0.509091  54443310477943062528\n",
            "92  5.000000e+13  8.497534e+10  0.509091  54489288210133803008\n",
            "93  5.000000e+13  8.697490e+10  0.509091  54537275645745430528\n",
            "94  5.000000e+13  8.902151e+10  0.509091  54587365814791143424\n",
            "95  5.000000e+13  9.111628e+10  0.509091  54639656211966148608\n",
            "96  5.000000e+13  9.326033e+10  0.509091  54694249019709849600\n",
            "97  5.000000e+13  9.545485e+10  0.509091  54751251343226347520\n",
            "98  5.000000e+13  9.770100e+10  0.509091  54810775458265923584\n",
            "99  5.000000e+13  1.000000e+11  0.509091  54872939072126689280\n",
            "\n",
            "[100 rows x 4 columns]\n"
          ],
          "name": "stdout"
        },
        {
          "output_type": "execute_result",
          "data": {
            "text/plain": [
              "Text(0.5, 0, 'Temperature')"
            ]
          },
          "metadata": {
            "tags": []
          },
          "execution_count": 4
        },
        {
          "output_type": "display_data",
          "data": {
            "image/png": "[encoded data removed]",
            "text/plain": [
              "<Figure size 432x288 with 1 Axes>"
            ]
          },
          "metadata": {
            "tags": []
          }
        }
      ]
    },
    {
      "cell_type": "code",
      "metadata": {
        "id": "jImwMuowQ4xD",
        "colab_type": "code",
        "outputId": "46d8d4f9-2455-445e-ea2e-5540c7d6c9b9",
        "colab": {
          "base_uri": "https://localhost:8080/",
          "height": 300
        }
      },
      "source": [
        "E = data['E'].astype('float64')\n",
        "x = np.log(data['y']) \n",
        "y = np.log(E)\n",
        "\n",
        "f = interp1d(x, y)\n",
        "f2 = interp1d(x, y, kind='cubic')\n",
        "\n",
        "plt.plot(x, y)\n",
        "plt.legend(['data', 'linear', 'cubic'])\n",
        "plt.ylabel('Energy')\n",
        "plt.xlabel('Density')"
      ],
      "execution_count": 5,
      "outputs": [
        {
          "output_type": "execute_result",
          "data": {
            "text/plain": [
              "Text(0.5, 0, 'Density')"
            ]
          },
          "metadata": {
            "tags": []
          },
          "execution_count": 5
        },
        {
          "output_type": "display_data",
          "data": {
            "image/png": "[encoded data removed]",
            "text/plain": [
              "<Figure size 432x288 with 1 Axes>"
            ]
          },
          "metadata": {
            "tags": []
          }
        }
      ]
    }
  ]
}