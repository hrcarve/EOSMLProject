{
  "nbformat": 4,
  "nbformat_minor": 0,
  "metadata": {
    "colab": {
      "name": "1000 2D-graphTemp.ipynb",
      "version": "0.3.2",
      "provenance": [],
      "collapsed_sections": [],
      "include_colab_link": true
    },
    "kernelspec": {
      "name": "python3",
      "display_name": "Python 3"
    }
  },
  "cells": [
    {
      "cell_type": "markdown",
      "metadata": {
        "id": "view-in-github",
        "colab_type": "text"
      },
      "source": [
        "<a href=\"https://colab.research.google.com/github/hrcarve/EOSMLProject/blob/master/1000_2D_graphTemp.ipynb\" target=\"_parent\"><img src=\"https://colab.research.google.com/assets/colab-badge.svg\" alt=\"Open In Colab\"/></a>"
      ]
    },
    {
      "cell_type": "code",
      "metadata": {
        "id": "FjJyrOPvKee0",
        "colab_type": "code",
        "colab": {}
      },
      "source": [
        "import numpy as np\n",
        "from mpl_toolkits import mplot3d\n",
        "%matplotlib inline\n",
        "from mpl_toolkits.mplot3d import Axes3D\n",
        "import matplotlib.pyplot as plt\n",
        "import pandas as pd\n",
        "from scipy.interpolate import interp1d"
      ],
      "execution_count": 0,
      "outputs": []
    },
    {
      "cell_type": "code",
      "metadata": {
        "id": "tMgFgy83LflI",
        "colab_type": "code",
        "colab": {}
      },
      "source": [
        "url = 'https://raw.githubusercontent.com/hrcarve/EOSMLProject/master/helmholtz/Temp_resolution10-11_1000.csv'\n",
        "\n",
        "data = pd.read_csv(url, header = 0)"
      ],
      "execution_count": 0,
      "outputs": []
    },
    {
      "cell_type": "markdown",
      "metadata": {
        "id": "Y3RUR-rHLMp3",
        "colab_type": "text"
      },
      "source": [
        ""
      ]
    },
    {
      "cell_type": "code",
      "metadata": {
        "id": "jV2ERAdDO8Ac",
        "colab_type": "code",
        "outputId": "b8f628c9-8b35-4b4a-ad41-1dd0256b73f6",
        "colab": {
          "base_uri": "https://localhost:8080/",
          "height": 1375
        }
      },
      "source": [
        "print(data)\n",
        "E = data['E'].astype('float64')\n",
        "x = np.log(data['y']) \n",
        "y = np.log(E)\n",
        "\n",
        "plt.plot(x, y)\n",
        "plt.ylabel('Energy')\n",
        "plt.xlabel('Temperature')"
      ],
      "execution_count": 3,
      "outputs": [
        {
          "output_type": "stream",
          "text": [
            "                x             y         z                     E\n",
            "0    5.000000e+13  1.000000e+10  0.509091  53346183997948329984\n",
            "1    5.000000e+13  1.002308e+10  0.509091  53346355568602374144\n",
            "2    5.000000e+13  1.004620e+10  0.509091  53346527610579107840\n",
            "3    5.000000e+13  1.006939e+10  0.509091  53346700125464526848\n",
            "4    5.000000e+13  1.009262e+10  0.509091  53346873114850598912\n",
            "5    5.000000e+13  1.011591e+10  0.509091  53347046580334018560\n",
            "6    5.000000e+13  1.013925e+10  0.509091  53347220523526012928\n",
            "7    5.000000e+13  1.016265e+10  0.509091  53347394946035089408\n",
            "8    5.000000e+13  1.018610e+10  0.509091  53347569849478316032\n",
            "9    5.000000e+13  1.020961e+10  0.509091  53347745235480207360\n",
            "10   5.000000e+13  1.023317e+10  0.509091  53347921105673035776\n",
            "11   5.000000e+13  1.025678e+10  0.509091  53348097461693710336\n",
            "12   5.000000e+13  1.028045e+10  0.509091  53348274305188143104\n",
            "13   5.000000e+13  1.030417e+10  0.509091  53348451637800902656\n",
            "14   5.000000e+13  1.032795e+10  0.509091  53348629461193146368\n",
            "15   5.000000e+13  1.035178e+10  0.509091  53348807777025294336\n",
            "16   5.000000e+13  1.037567e+10  0.509091  53348986586970456064\n",
            "17   5.000000e+13  1.039961e+10  0.509091  53349165892700282880\n",
            "18   5.000000e+13  1.042361e+10  0.509091  53349345695902523392\n",
            "19   5.000000e+13  1.044766e+10  0.509091  53349525998262550528\n",
            "20   5.000000e+13  1.047177e+10  0.509091  53349706801478918144\n",
            "21   5.000000e+13  1.049593e+10  0.509091  53349888107253334016\n",
            "22   5.000000e+13  1.052015e+10  0.509091  53350069917296123904\n",
            "23   5.000000e+13  1.054443e+10  0.509091  53350252233323331584\n",
            "24   5.000000e+13  1.056876e+10  0.509091  53350435057058652160\n",
            "25   5.000000e+13  1.059315e+10  0.509091  53350618390232121344\n",
            "26   5.000000e+13  1.061759e+10  0.509091  53350802234579492864\n",
            "27   5.000000e+13  1.064209e+10  0.509091  53350986591845359616\n",
            "28   5.000000e+13  1.066665e+10  0.509091  53351171463779475456\n",
            "29   5.000000e+13  1.069126e+10  0.509091  53351356852139786240\n",
            "..            ...           ...       ...                   ...\n",
            "970  5.000000e+13  9.353432e+10  0.509091  54701303444106747904\n",
            "971  5.000000e+13  9.375015e+10  0.509091  54706873234802302976\n",
            "972  5.000000e+13  9.396648e+10  0.509091  54712466928046268416\n",
            "973  5.000000e+13  9.418332e+10  0.509091  54718084631921786880\n",
            "974  5.000000e+13  9.440065e+10  0.509091  54723726455018340352\n",
            "975  5.000000e+13  9.461848e+10  0.509091  54729392506433486848\n",
            "976  5.000000e+13  9.483682e+10  0.509091  54735082895776718848\n",
            "977  5.000000e+13  9.505566e+10  0.509091  54740797733169889280\n",
            "978  5.000000e+13  9.527500e+10  0.509091  54746537129255010304\n",
            "979  5.000000e+13  9.549486e+10  0.509091  54752301195189395456\n",
            "980  5.000000e+13  9.571522e+10  0.509091  54758090042651844608\n",
            "981  5.000000e+13  9.593608e+10  0.509091  54763903783849762816\n",
            "982  5.000000e+13  9.615746e+10  0.509091  54769742531512180736\n",
            "983  5.000000e+13  9.637935e+10  0.509091  54775606398899085312\n",
            "984  5.000000e+13  9.660175e+10  0.509091  54781495499802918912\n",
            "985  5.000000e+13  9.682466e+10  0.509091  54787409948551553024\n",
            "986  5.000000e+13  9.704809e+10  0.509091  54793349860007895040\n",
            "987  5.000000e+13  9.727203e+10  0.509091  54799315349572100096\n",
            "988  5.000000e+13  9.749649e+10  0.509091  54805306533193383936\n",
            "989  5.000000e+13  9.772147e+10  0.509091  54811323527360495616\n",
            "990  5.000000e+13  9.794697e+10  0.509091  54817366449113505792\n",
            "991  5.000000e+13  9.817298e+10  0.509091  54823435416039481344\n",
            "992  5.000000e+13  9.839952e+10  0.509091  54829530546280980480\n",
            "993  5.000000e+13  9.862658e+10  0.509091  54835651958535806976\n",
            "994  5.000000e+13  9.885417e+10  0.509091  54841799772059475968\n",
            "995  5.000000e+13  9.908228e+10  0.509091  54847974106668638208\n",
            "996  5.000000e+13  9.931092e+10  0.509091  54854175082746912768\n",
            "997  5.000000e+13  9.954008e+10  0.509091  54860402821241667584\n",
            "998  5.000000e+13  9.976978e+10  0.509091  54866657443671662592\n",
            "999  5.000000e+13  1.000000e+11  0.509091  54872939072126689280\n",
            "\n",
            "[1000 rows x 4 columns]\n"
          ],
          "name": "stdout"
        },
        {
          "output_type": "execute_result",
          "data": {
            "text/plain": [
              "Text(0.5, 0, 'Temperature')"
            ]
          },
          "metadata": {
            "tags": []
          },
          "execution_count": 3
        },
        {
          "output_type": "display_data",
          "data": {
            "image/png": "[encoded data removed]",
            "text/plain": [
              "<Figure size 432x288 with 1 Axes>"
            ]
          },
          "metadata": {
            "tags": []
          }
        }
      ]
    },
    {
      "cell_type": "code",
      "metadata": {
        "id": "jImwMuowQ4xD",
        "colab_type": "code",
        "outputId": "5e153b47-483e-49dd-bc25-b106fe7d1bc6",
        "colab": {
          "base_uri": "https://localhost:8080/",
          "height": 300
        }
      },
      "source": [
        "E = data['E'].astype('float64')\n",
        "x = np.log10(data['y']) \n",
        "y = np.log10(E)\n",
        "\n",
        "f = interp1d(x, y)\n",
        "f2 = interp1d(x, y, kind='cubic')\n",
        "\n",
        "plt.scatter(x, y)\n",
        "plt.legend(['data', 'linear', 'cubic'])\n",
        "plt.ylabel('Energy')\n",
        "plt.xlabel('Temperature')"
      ],
      "execution_count": 4,
      "outputs": [
        {
          "output_type": "execute_result",
          "data": {
            "text/plain": [
              "Text(0.5, 0, 'Temperature')"
            ]
          },
          "metadata": {
            "tags": []
          },
          "execution_count": 4
        },
        {
          "output_type": "display_data",
          "data": {
            "image/png": "[encoded data removed]",
            "text/plain": [
              "<Figure size 432x288 with 1 Axes>"
            ]
          },
          "metadata": {
            "tags": []
          }
        }
      ]
    }
  ]
}