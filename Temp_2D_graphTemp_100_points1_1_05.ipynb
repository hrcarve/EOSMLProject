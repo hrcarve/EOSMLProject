{
  "nbformat": 4,
  "nbformat_minor": 0,
  "metadata": {
    "colab": {
      "name": "Temp 2D-graphTemp- 100 points1-1.05.ipynb",
      "version": "0.3.2",
      "provenance": [],
      "collapsed_sections": [],
      "include_colab_link": true
    },
    "kernelspec": {
      "name": "python3",
      "display_name": "Python 3"
    }
  },
  "cells": [
    {
      "cell_type": "markdown",
      "metadata": {
        "id": "view-in-github",
        "colab_type": "text"
      },
      "source": [
        "<a href=\"https://colab.research.google.com/github/hrcarve/EOSMLProject/blob/master/Temp_2D_graphTemp_100_points1_1_05.ipynb\" target=\"_parent\"><img src=\"https://colab.research.google.com/assets/colab-badge.svg\" alt=\"Open In Colab\"/></a>"
      ]
    },
    {
      "cell_type": "code",
      "metadata": {
        "id": "FjJyrOPvKee0",
        "colab_type": "code",
        "colab": {}
      },
      "source": [
        "import numpy as np\n",
        "from mpl_toolkits import mplot3d\n",
        "%matplotlib inline\n",
        "from mpl_toolkits.mplot3d import Axes3D\n",
        "import matplotlib.pyplot as plt\n",
        "import pandas as pd\n",
        "from scipy.interpolate import interp1d"
      ],
      "execution_count": 0,
      "outputs": []
    },
    {
      "cell_type": "code",
      "metadata": {
        "id": "tMgFgy83LflI",
        "colab_type": "code",
        "colab": {}
      },
      "source": [
        "url = 'https://raw.githubusercontent.com/hrcarve/EOSMLProject/master/helmholtz/Temp_resolution1-1.05e10_100.csv'\n",
        "\n",
        "data = pd.read_csv(url, header = 0)"
      ],
      "execution_count": 0,
      "outputs": []
    },
    {
      "cell_type": "markdown",
      "metadata": {
        "id": "Y3RUR-rHLMp3",
        "colab_type": "text"
      },
      "source": [
        ""
      ]
    },
    {
      "cell_type": "code",
      "metadata": {
        "id": "jV2ERAdDO8Ac",
        "colab_type": "code",
        "outputId": "6e0e5692-eedf-4ed2-af17-98864e4539e4",
        "colab": {
          "base_uri": "https://localhost:8080/",
          "height": 1382
        }
      },
      "source": [
        "print(data)\n",
        "E = data['E'].astype('float64')\n",
        "x = (data['T']) \n",
        "y = E\n",
        "\n",
        "plt.scatter(x, y, s = 5)\n",
        "#plt.xlim(right = 1.5)\n",
        "plt.ylabel('Energy')\n",
        "plt.xlabel('Temperature')"
      ],
      "execution_count": 4,
      "outputs": [
        {
          "output_type": "stream",
          "text": [
            "               D             T         Y                     E\n",
            "0   5.000000e+13  1.000000e+10  0.509091  53346183997948329984\n",
            "1   5.000000e+13  1.000505e+10  0.509091  53346221543008403456\n",
            "2   5.000000e+13  1.001010e+10  0.509091  53346259091663101952\n",
            "3   5.000000e+13  1.001515e+10  0.509091  53346296643914391552\n",
            "4   5.000000e+13  1.002020e+10  0.509091  53346334199762903040\n",
            "5   5.000000e+13  1.002525e+10  0.509091  53346371759209242624\n",
            "6   5.000000e+13  1.003030e+10  0.509091  53346409322257973248\n",
            "7   5.000000e+13  1.003535e+10  0.509091  53346446888909029376\n",
            "8   5.000000e+13  1.004040e+10  0.509091  53346484459163680768\n",
            "9   5.000000e+13  1.004545e+10  0.509091  53346522033024385024\n",
            "10  5.000000e+13  1.005051e+10  0.509091  53346559610490519552\n",
            "11  5.000000e+13  1.005556e+10  0.509091  53346597191566794752\n",
            "12  5.000000e+13  1.006061e+10  0.509091  53346634776253153280\n",
            "13  5.000000e+13  1.006566e+10  0.509091  53346672364549939200\n",
            "14  5.000000e+13  1.007071e+10  0.509091  53346709956462198784\n",
            "15  5.000000e+13  1.007576e+10  0.509091  53346747551988613120\n",
            "16  5.000000e+13  1.008081e+10  0.509091  53346785151129993216\n",
            "17  5.000000e+13  1.008586e+10  0.509091  53346822753890762752\n",
            "18  5.000000e+13  1.009091e+10  0.509091  53346860360268111872\n",
            "19  5.000000e+13  1.009596e+10  0.509091  53346897970269454336\n",
            "20  5.000000e+13  1.010101e+10  0.509091  53346935583894724608\n",
            "21  5.000000e+13  1.010606e+10  0.509091  53346973201139949568\n",
            "22  5.000000e+13  1.011111e+10  0.509091  53347010822013632512\n",
            "23  5.000000e+13  1.011616e+10  0.509091  53347048446513037312\n",
            "24  5.000000e+13  1.012121e+10  0.509091  53347086074642153472\n",
            "25  5.000000e+13  1.012626e+10  0.509091  53347123706399334400\n",
            "26  5.000000e+13  1.013131e+10  0.509091  53347161341791068160\n",
            "27  5.000000e+13  1.013636e+10  0.509091  53347198980813398016\n",
            "28  5.000000e+13  1.014141e+10  0.509091  53347236623475728384\n",
            "29  5.000000e+13  1.014646e+10  0.509091  53347274269766991872\n",
            "..           ...           ...       ...                   ...\n",
            "70  5.000000e+13  1.035354e+10  0.509091  53348820917379735552\n",
            "71  5.000000e+13  1.035859e+10  0.509091  53348858717757767680\n",
            "72  5.000000e+13  1.036364e+10  0.509091  53348896521837150208\n",
            "73  5.000000e+13  1.036869e+10  0.509091  53348934329617055744\n",
            "74  5.000000e+13  1.037374e+10  0.509091  53348972141101383680\n",
            "75  5.000000e+13  1.037879e+10  0.509091  53349009956288839680\n",
            "76  5.000000e+13  1.038384e+10  0.509091  53349047775183331328\n",
            "77  5.000000e+13  1.038889e+10  0.509091  53349085597787193344\n",
            "78  5.000000e+13  1.039394e+10  0.509091  53349123424098304000\n",
            "79  5.000000e+13  1.039899e+10  0.509091  53349161254120497152\n",
            "80  5.000000e+13  1.040404e+10  0.509091  53349199087854927872\n",
            "81  5.000000e+13  1.040909e+10  0.509091  53349236925302259712\n",
            "82  5.000000e+13  1.041414e+10  0.509091  53349274766463803392\n",
            "83  5.000000e+13  1.041919e+10  0.509091  53349312611343261696\n",
            "84  5.000000e+13  1.042424e+10  0.509091  53349350459939094528\n",
            "85  5.000000e+13  1.042929e+10  0.509091  53349388312255692800\n",
            "86  5.000000e+13  1.043434e+10  0.509091  53349426168291639296\n",
            "87  5.000000e+13  1.043939e+10  0.509091  53349464028050817024\n",
            "88  5.000000e+13  1.044444e+10  0.509091  53349501891532177408\n",
            "89  5.000000e+13  1.044949e+10  0.509091  53349539758739701760\n",
            "90  5.000000e+13  1.045455e+10  0.509091  53349577629671235584\n",
            "91  5.000000e+13  1.045960e+10  0.509091  53349615504333365248\n",
            "92  5.000000e+13  1.046465e+10  0.509091  53349653382722674688\n",
            "93  5.000000e+13  1.046970e+10  0.509091  53349691264843816960\n",
            "94  5.000000e+13  1.047475e+10  0.509091  53349729150695604224\n",
            "95  5.000000e+13  1.047980e+10  0.509091  53349767040283279360\n",
            "96  5.000000e+13  1.048485e+10  0.509091  53349804933604474880\n",
            "97  5.000000e+13  1.048990e+10  0.509091  53349842830660861952\n",
            "98  5.000000e+13  1.049495e+10  0.509091  53349880731457126400\n",
            "99  5.000000e+13  1.050000e+10  0.509091  53349918635990245376\n",
            "\n",
            "[100 rows x 4 columns]\n"
          ],
          "name": "stdout"
        },
        {
          "output_type": "execute_result",
          "data": {
            "text/plain": [
              "Text(0.5, 0, 'Temperature')"
            ]
          },
          "metadata": {
            "tags": []
          },
          "execution_count": 4
        },
        {
          "output_type": "display_data",
          "data": {
            "image/png": "[encoded data removed]",
            "text/plain": [
              "<Figure size 432x288 with 1 Axes>"
            ]
          },
          "metadata": {
            "tags": []
          }
        }
      ]
    }
  ]
}