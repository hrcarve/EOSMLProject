{
  "nbformat": 4,
  "nbformat_minor": 0,
  "metadata": {
    "colab": {
      "name": "Temp 2D-graphTemp.ipynb",
      "version": "0.3.2",
      "provenance": [],
      "collapsed_sections": [],
      "include_colab_link": true
    },
    "kernelspec": {
      "name": "python3",
      "display_name": "Python 3"
    }
  },
  "cells": [
    {
      "cell_type": "markdown",
      "metadata": {
        "id": "view-in-github",
        "colab_type": "text"
      },
      "source": [
        "<a href=\"https://colab.research.google.com/github/hrcarve/EOSMLProject/blob/master/Temp100points_2D_graphTemp.ipynb\" target=\"_parent\"><img src=\"https://colab.research.google.com/assets/colab-badge.svg\" alt=\"Open In Colab\"/></a>"
      ]
    },
    {
      "cell_type": "code",
      "metadata": {
        "id": "FjJyrOPvKee0",
        "colab_type": "code",
        "colab": {}
      },
      "source": [
        "import numpy as np\n",
        "from mpl_toolkits import mplot3d\n",
        "%matplotlib inline\n",
        "from mpl_toolkits.mplot3d import Axes3D\n",
        "import matplotlib.pyplot as plt\n",
        "import pandas as pd\n",
        "from scipy.interpolate import interp1d"
      ],
      "execution_count": 0,
      "outputs": []
    },
    {
      "cell_type": "code",
      "metadata": {
        "id": "tMgFgy83LflI",
        "colab_type": "code",
        "colab": {}
      },
      "source": [
        "url = 'https://raw.githubusercontent.com/hrcarve/EOSMLProject/master/helmholtz/Temp_resolution1-1.5e10_100.csv'\n",
        "\n",
        "data = pd.read_csv(url, header = 0)"
      ],
      "execution_count": 0,
      "outputs": []
    },
    {
      "cell_type": "markdown",
      "metadata": {
        "id": "Y3RUR-rHLMp3",
        "colab_type": "text"
      },
      "source": [
        ""
      ]
    },
    {
      "cell_type": "code",
      "metadata": {
        "id": "jV2ERAdDO8Ac",
        "colab_type": "code",
        "outputId": "469a8c55-dd18-410e-8d01-be474519aba3",
        "colab": {
          "base_uri": "https://localhost:8080/",
          "height": 1375
        }
      },
      "source": [
        "print(data)\n",
        "E = data['E'].astype('float64')\n",
        "x = np.log(data['T']) \n",
        "y = np.log(E)\n",
        "\n",
        "plt.scatter(x, y, s = 5)\n",
        "plt.ylabel('Energy')\n",
        "plt.xlabel('Temperature')"
      ],
      "execution_count": 13,
      "outputs": [
        {
          "output_type": "stream",
          "text": [
            "               D             T         Y                     E\n",
            "0   5.000000e+13  1.000000e+10  0.509091  53346183997948329984\n",
            "1   5.000000e+13  1.005051e+10  0.509091  53346559610490519552\n",
            "2   5.000000e+13  1.010101e+10  0.509091  53346935583894724608\n",
            "3   5.000000e+13  1.015152e+10  0.509091  53347311919703605248\n",
            "4   5.000000e+13  1.020202e+10  0.509091  53347688619448918016\n",
            "5   5.000000e+13  1.025253e+10  0.509091  53348065684650483712\n",
            "6   5.000000e+13  1.030303e+10  0.509091  53348443116800671744\n",
            "7   5.000000e+13  1.035354e+10  0.509091  53348820917379735552\n",
            "8   5.000000e+13  1.040404e+10  0.509091  53349199087854927872\n",
            "9   5.000000e+13  1.045455e+10  0.509091  53349577629671235584\n",
            "10  5.000000e+13  1.050505e+10  0.509091  53349956544265535488\n",
            "11  5.000000e+13  1.055556e+10  0.509091  53350335833051381760\n",
            "12  5.000000e+13  1.060606e+10  0.509091  53350715497430179840\n",
            "13  5.000000e+13  1.065657e+10  0.509091  53351095538790989824\n",
            "14  5.000000e+13  1.070707e+10  0.509091  53351475958504529920\n",
            "15  5.000000e+13  1.075758e+10  0.509091  53351856757927870464\n",
            "16  5.000000e+13  1.080808e+10  0.509091  53352237938403459072\n",
            "17  5.000000e+13  1.085859e+10  0.509091  53352619501261070336\n",
            "18  5.000000e+13  1.090909e+10  0.509091  53353001447816273920\n",
            "19  5.000000e+13  1.095960e+10  0.509091  53353383779368992768\n",
            "20  5.000000e+13  1.101010e+10  0.509091  53353766497204461568\n",
            "21  5.000000e+13  1.106061e+10  0.509091  53354149602601148416\n",
            "22  5.000000e+13  1.111111e+10  0.509091  53354533096818130944\n",
            "23  5.000000e+13  1.116162e+10  0.509091  53354916981101756416\n",
            "24  5.000000e+13  1.121212e+10  0.509091  53355301256690827264\n",
            "25  5.000000e+13  1.126263e+10  0.509091  53355685924805328896\n",
            "26  5.000000e+13  1.131313e+10  0.509091  53356070986659454976\n",
            "27  5.000000e+13  1.136364e+10  0.509091  53356456443448713216\n",
            "28  5.000000e+13  1.141414e+10  0.509091  53356842296359804928\n",
            "29  5.000000e+13  1.146465e+10  0.509091  53357228546568282112\n",
            "..           ...           ...       ...                   ...\n",
            "70  5.000000e+13  1.353535e+10  0.509091  53373419950578794496\n",
            "71  5.000000e+13  1.358586e+10  0.509091  53373823813061304320\n",
            "72  5.000000e+13  1.363636e+10  0.509091  53374228114162892800\n",
            "73  5.000000e+13  1.368687e+10  0.509091  53374632854667214848\n",
            "74  5.000000e+13  1.373737e+10  0.509091  53375038035357392896\n",
            "75  5.000000e+13  1.378788e+10  0.509091  53375443657003794432\n",
            "76  5.000000e+13  1.383838e+10  0.509091  53375849720372707328\n",
            "77  5.000000e+13  1.388889e+10  0.509091  53376256226222874624\n",
            "78  5.000000e+13  1.393939e+10  0.509091  53376663175312711680\n",
            "79  5.000000e+13  1.398990e+10  0.509091  53377070568387993600\n",
            "80  5.000000e+13  1.404040e+10  0.509091  53377478406187458560\n",
            "81  5.000000e+13  1.409091e+10  0.509091  53377886689451859968\n",
            "82  5.000000e+13  1.414141e+10  0.509091  53378295418905542656\n",
            "83  5.000000e+13  1.419192e+10  0.509091  53378704595277152256\n",
            "84  5.000000e+13  1.424242e+10  0.509091  53379114219279441920\n",
            "85  5.000000e+13  1.429293e+10  0.509091  53379524291633242112\n",
            "86  5.000000e+13  1.434343e+10  0.509091  53379934813035446272\n",
            "87  5.000000e+13  1.439394e+10  0.509091  53380345784193900544\n",
            "88  5.000000e+13  1.444444e+10  0.509091  53380757205801426944\n",
            "89  5.000000e+13  1.449495e+10  0.509091  53381169078547226624\n",
            "90  5.000000e+13  1.454545e+10  0.509091  53381581403117453312\n",
            "91  5.000000e+13  1.459596e+10  0.509091  53381994180193583104\n",
            "92  5.000000e+13  1.464646e+10  0.509091  53382407410443198464\n",
            "93  5.000000e+13  1.469697e+10  0.509091  53382821094541459456\n",
            "94  5.000000e+13  1.474747e+10  0.509091  53383235233149599744\n",
            "95  5.000000e+13  1.479798e+10  0.509091  53383649826923790336\n",
            "96  5.000000e+13  1.484848e+10  0.509091  53384064876521472000\n",
            "97  5.000000e+13  1.489899e+10  0.509091  53384480382587314176\n",
            "98  5.000000e+13  1.494949e+10  0.509091  53384896345768337408\n",
            "99  5.000000e+13  1.500000e+10  0.509091  53385312766700470272\n",
            "\n",
            "[100 rows x 4 columns]\n"
          ],
          "name": "stdout"
        },
        {
          "output_type": "execute_result",
          "data": {
            "text/plain": [
              "Text(0.5, 0, 'Temperature')"
            ]
          },
          "metadata": {
            "tags": []
          },
          "execution_count": 13
        },
        {
          "output_type": "display_data",
          "data": {
            "image/png": "[encoded data removed]",
            "text/plain": [
              "<Figure size 432x288 with 1 Axes>"
            ]
          },
          "metadata": {
            "tags": []
          }
        }
      ]
    }
  ]
}